{
 "cells": [
  {
   "cell_type": "markdown",
   "metadata": {},
   "source": [
    "# This is the code to run the KNN Model on rain data for UAE "
   ]
  },
  {
   "cell_type": "code",
   "execution_count": 2,
   "metadata": {},
   "outputs": [],
   "source": [
    "import pandas as pd\n",
    "from pandas import read_csv\n",
    "import numpy as np\n",
    "from numpy import array\n",
    "from datetime import datetime\n",
    "import seaborn as sns\n",
    "import matplotlib.pylab as plt\n",
    "from statsmodels.tsa.stattools import adfuller\n",
    "from statsmodels.graphics.tsaplots import plot_acf, plot_pacf\n",
    "from statsmodels.tsa.statespace.sarimax import SARIMAX\n",
    "from tqdm import tqdm_notebook\n",
    "from tqdm.notebook import tqdm\n",
    "from itertools import product\n",
    "import warnings\n",
    "from statsmodels.tools.sm_exceptions import ConvergenceWarning\n",
    "from statsmodels.tsa.seasonal import seasonal_decompose\n",
    "from keras.models import Sequential\n",
    "from keras.layers import LSTM\n",
    "from keras.layers import Dense\n",
    "from sklearn.preprocessing import MinMaxScaler\n",
    "from pandas import DataFrame\n",
    "from pandas import concat\n",
    "from sklearn.preprocessing import LabelEncoder\n",
    "from numpy import concatenate\n",
    "from sklearn import neighbors\n",
    "from tslearn.neighbors import KNeighborsTimeSeries\n",
    "from tslearn.neighbors import KNeighborsTimeSeriesClassifier\n",
    "from tslearn.neighbors import KNeighborsTimeSeriesRegressor"
   ]
  },
  {
   "cell_type": "code",
   "execution_count": 3,
   "metadata": {},
   "outputs": [],
   "source": [
    "# Input Configuration\n",
    "# 1. Path where input file is stored\n",
    "filepath = \"C:\\CDrive\\C_FULL\\PHD\\Coding Section\\Forecasting\\Combined Dataset_v2.csv\"\n",
    "\n",
    "# 2. Row number of starting month\n",
    "startrow_training = 0\n",
    "endrow_training = 194\n",
    "startrow_test = 194\n",
    "endrow_test = 205\n",
    "\n",
    "# 3. Dependent variable name\n",
    "dependent_var = \"DXB_Daily_Avg_SR\"\n",
    "\n",
    "# 4. Number of KNN time steps \n",
    "n_steps = 3"
   ]
  },
  {
   "cell_type": "code",
   "execution_count": null,
   "metadata": {},
   "outputs": [],
   "source": []
  },
  {
   "cell_type": "code",
   "execution_count": 4,
   "metadata": {},
   "outputs": [
    {
     "data": {
      "text/html": [
       "<div>\n",
       "<style scoped>\n",
       "    .dataframe tbody tr th:only-of-type {\n",
       "        vertical-align: middle;\n",
       "    }\n",
       "\n",
       "    .dataframe tbody tr th {\n",
       "        vertical-align: top;\n",
       "    }\n",
       "\n",
       "    .dataframe thead th {\n",
       "        text-align: right;\n",
       "    }\n",
       "</style>\n",
       "<table border=\"1\" class=\"dataframe\">\n",
       "  <thead>\n",
       "    <tr style=\"text-align: right;\">\n",
       "      <th></th>\n",
       "      <th>Day</th>\n",
       "      <th>Month</th>\n",
       "      <th>Year</th>\n",
       "      <th>Month_Year</th>\n",
       "      <th>DXB_Daily_Avg_SR</th>\n",
       "    </tr>\n",
       "    <tr>\n",
       "      <th>Month_Year</th>\n",
       "      <th></th>\n",
       "      <th></th>\n",
       "      <th></th>\n",
       "      <th></th>\n",
       "      <th></th>\n",
       "    </tr>\n",
       "  </thead>\n",
       "  <tbody>\n",
       "    <tr>\n",
       "      <th>1-Jan-03</th>\n",
       "      <td>1</td>\n",
       "      <td>Jan</td>\n",
       "      <td>2003</td>\n",
       "      <td>1-Jan-03</td>\n",
       "      <td>3.4</td>\n",
       "    </tr>\n",
       "    <tr>\n",
       "      <th>1-Feb-03</th>\n",
       "      <td>1</td>\n",
       "      <td>Feb</td>\n",
       "      <td>2003</td>\n",
       "      <td>1-Feb-03</td>\n",
       "      <td>3.5</td>\n",
       "    </tr>\n",
       "    <tr>\n",
       "      <th>1-Mar-03</th>\n",
       "      <td>1</td>\n",
       "      <td>Mar</td>\n",
       "      <td>2003</td>\n",
       "      <td>1-Mar-03</td>\n",
       "      <td>9.1</td>\n",
       "    </tr>\n",
       "    <tr>\n",
       "      <th>1-Apr-03</th>\n",
       "      <td>1</td>\n",
       "      <td>Apr</td>\n",
       "      <td>2003</td>\n",
       "      <td>1-Apr-03</td>\n",
       "      <td>48.9</td>\n",
       "    </tr>\n",
       "    <tr>\n",
       "      <th>1-May-03</th>\n",
       "      <td>1</td>\n",
       "      <td>May</td>\n",
       "      <td>2003</td>\n",
       "      <td>1-May-03</td>\n",
       "      <td>0.3</td>\n",
       "    </tr>\n",
       "  </tbody>\n",
       "</table>\n",
       "</div>"
      ],
      "text/plain": [
       "            Day Month  Year Month_Year  DXB_Daily_Avg_SR\n",
       "Month_Year                                              \n",
       "1-Jan-03      1   Jan  2003   1-Jan-03               3.4\n",
       "1-Feb-03      1   Feb  2003   1-Feb-03               3.5\n",
       "1-Mar-03      1   Mar  2003   1-Mar-03               9.1\n",
       "1-Apr-03      1   Apr  2003   1-Apr-03              48.9\n",
       "1-May-03      1   May  2003   1-May-03               0.3"
      ]
     },
     "execution_count": 4,
     "metadata": {},
     "output_type": "execute_result"
    }
   ],
   "source": [
    "df = pd.read_csv(filepath)\n",
    "df.index.name = 'Month_Year'\n",
    "df.set_index(df['Month_Year'], inplace=True)\n",
    "df.head()"
   ]
  },
  {
   "cell_type": "code",
   "execution_count": 5,
   "metadata": {},
   "outputs": [
    {
     "data": {
      "text/plain": [
       "Month_Year\n",
       "1-Jan-03     3.4\n",
       "1-Feb-03     3.5\n",
       "1-Mar-03     9.1\n",
       "1-Apr-03    48.9\n",
       "1-May-03     0.3\n",
       "            ... \n",
       "1-Oct-18     9.7\n",
       "1-Nov-18     8.9\n",
       "1-Dec-18     1.4\n",
       "1-Jan-19     0.2\n",
       "1-Feb-19     9.0\n",
       "Name: DXB_Daily_Avg_SR, Length: 194, dtype: float64"
      ]
     },
     "execution_count": 5,
     "metadata": {},
     "output_type": "execute_result"
    }
   ],
   "source": [
    "# Divide the data into train and test datasets\n",
    "train = df[dependent_var][startrow_training:endrow_training]\n",
    "test = df[dependent_var][startrow_test:endrow_test]\n",
    "train"
   ]
  },
  {
   "cell_type": "code",
   "execution_count": 6,
   "metadata": {},
   "outputs": [],
   "source": [
    "def split_sequence(sequence, n_steps):\n",
    "    X, y = list(), list()\n",
    "    for i in range(len(sequence)):\n",
    "        # find the end of this pattern\n",
    "        end_ix = i + n_steps\n",
    "        # check if we are beyond the sequence\n",
    "        if end_ix > len(sequence)-1:\n",
    "            break\n",
    "        # gather input and output parts of the pattern\n",
    "        seq_x, seq_y = sequence[i:end_ix], sequence[end_ix]\n",
    "        X.append(seq_x)\n",
    "        y.append(seq_y)\n",
    "    return array(X), array(y)"
   ]
  },
  {
   "cell_type": "code",
   "execution_count": 7,
   "metadata": {},
   "outputs": [],
   "source": [
    "colindex = df.columns.get_loc(dependent_var)\n",
    "train_processed = df.iloc[startrow_training:endrow_training, colindex:colindex+1].values\n",
    "#train_processed"
   ]
  },
  {
   "cell_type": "code",
   "execution_count": 8,
   "metadata": {
    "scrolled": false
   },
   "outputs": [
    {
     "name": "stdout",
     "output_type": "stream",
     "text": [
      "X:  (191, 3, 1)\n",
      "Y: (191, 1)\n"
     ]
    }
   ],
   "source": [
    "X, y = split_sequence(train_processed, n_steps)\n",
    "print(\"X: \", X.shape)\n",
    "print(\"Y:\", y.shape)"
   ]
  },
  {
   "cell_type": "code",
   "execution_count": 9,
   "metadata": {},
   "outputs": [
    {
     "data": {
      "text/plain": [
       "KNeighborsTimeSeriesRegressor(n_neighbors=2)"
      ]
     },
     "execution_count": 9,
     "metadata": {},
     "output_type": "execute_result"
    }
   ],
   "source": [
    "knn = KNeighborsTimeSeriesRegressor(n_neighbors=2, metric='dtw')\n",
    "knn.fit(X, y)"
   ]
  },
  {
   "cell_type": "code",
   "execution_count": 10,
   "metadata": {},
   "outputs": [],
   "source": [
    "Knn_predictions_train = knn.predict(X)"
   ]
  },
  {
   "cell_type": "code",
   "execution_count": 11,
   "metadata": {},
   "outputs": [
    {
     "data": {
      "image/png": "[encoded data removed]",
      "text/plain": [
       "<Figure size 432x288 with 1 Axes>"
      ]
     },
     "metadata": {
      "needs_background": "light"
     },
     "output_type": "display_data"
    }
   ],
   "source": [
    "plt.plot(Knn_predictions_train,label='prediction')\n",
    "plt.plot(y,color='red',label='actual')\n",
    "plt.ylabel(dependent_var)\n",
    "plt.xlabel('Month')\n",
    "plt.legend()\n",
    "plt.show()"
   ]
  },
  {
   "cell_type": "code",
   "execution_count": 12,
   "metadata": {},
   "outputs": [
    {
     "data": {
      "text/plain": [
       "{'me': -0.12719834317539283, 'mae': 3.5347805699659687}"
      ]
     },
     "execution_count": 12,
     "metadata": {},
     "output_type": "execute_result"
    }
   ],
   "source": [
    "def forecast_accuracy(forecast, actual):\n",
    "   \n",
    "    me = np.mean(forecast - actual)             # ME\n",
    "    mae = np.mean(np.abs(forecast - actual))    # MAE\n",
    " \n",
    "    \n",
    "    return({ 'me':me, 'mae': mae, \n",
    "            })\n",
    "\n",
    "forecast_accuracy(Knn_predictions_train, y)"
   ]
  }
 ],
 "metadata": {
  "kernelspec": {
   "display_name": "Python 3",
   "language": "python",
   "name": "python3"
  },
  "language_info": {
   "codemirror_mode": {
    "name": "ipython",
    "version": 3
   },
   "file_extension": ".py",
   "mimetype": "text/x-python",
   "name": "python",
   "nbconvert_exporter": "python",
   "pygments_lexer": "ipython3",
   "version": "3.8.3"
  }
 },
 "nbformat": 4,
 "nbformat_minor": 4
}
